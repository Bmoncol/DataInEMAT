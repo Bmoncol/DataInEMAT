{
 "cells": [
  {
   "cell_type": "markdown",
   "id": "fd5aee49",
   "metadata": {},
   "source": [
    "<h1> Analysis Report </h1> \n",
    "<h2> Brooke Moncol </h2>\n",
    "<h2> 11/21/23 </h2>"
   ]
  },
  {
   "cell_type": "markdown",
   "id": "d89a890b",
   "metadata": {},
   "source": [
    "<h5> My two favorite albums that are avaliable on Spotify are \"The First Time\" by The Kid LAROI, and \"1989 Taylor's Version\" by Taylor swift </h5>"
   ]
  },
  {
   "cell_type": "markdown",
   "id": "6ded3138",
   "metadata": {},
   "source": [
    "I chose these two albums because they recently came out within the past few weeks, and they both are some of my favorite artists that I've listened to for years. The First Time means a lot to me because I can realate to the songs a lot as I have been through a break up before. 1989 Taylor's Version, means a lot to me because it's a rerelease of the album and it happened to be the album that got me interested in Taylor Swift as an artist. "
   ]
  },
  {
   "cell_type": "markdown",
   "id": "ef81c16b",
   "metadata": {},
   "source": [
    "<h3> Setting Up Application </h3>"
   ]
  },
  {
   "cell_type": "code",
   "execution_count": 3,
   "id": "d3aa1817",
   "metadata": {},
   "outputs": [],
   "source": [
    "import requests\n",
    "import pandas as pd\n",
    "import base64\n",
    "import json\n",
    "import numpy as np \n",
    "from matplotlib import pyplot as plt\n",
    "from scipy import stats"
   ]
  },
  {
   "cell_type": "code",
   "execution_count": 4,
   "id": "12ec7e9b",
   "metadata": {},
   "outputs": [],
   "source": [
    "Client_ID = pd.read_csv('Spotify_Keys_9-19-23')['Client_ID'].iloc[0]"
   ]
  },
  {
   "cell_type": "code",
   "execution_count": 5,
   "id": "9e19e443",
   "metadata": {},
   "outputs": [],
   "source": [
    "Client_Secret = pd.read_csv('Spotify_Keys_9-19-23')['Client_Secret'].iloc[0]"
   ]
  },
  {
   "cell_type": "code",
   "execution_count": 6,
   "id": "255c2c08",
   "metadata": {},
   "outputs": [],
   "source": [
    "#Client_ID"
   ]
  },
  {
   "cell_type": "code",
   "execution_count": 7,
   "id": "138321c2",
   "metadata": {},
   "outputs": [],
   "source": [
    "#Client_Secret"
   ]
  },
  {
   "cell_type": "code",
   "execution_count": 8,
   "id": "ee09a0ff",
   "metadata": {},
   "outputs": [],
   "source": [
    "client_cred = base64.b64encode(str(Client_ID + \":\" + Client_Secret).encode(\"ascii\"))"
   ]
  },
  {
   "cell_type": "code",
   "execution_count": 9,
   "id": "e96783d2",
   "metadata": {},
   "outputs": [],
   "source": [
    "#client_cred"
   ]
  },
  {
   "cell_type": "code",
   "execution_count": 10,
   "id": "ccccb3c1",
   "metadata": {},
   "outputs": [],
   "source": [
    "headers = {\"Authorization\" : \"Basic {}\".format(client_cred.decode(\"ascii\"))}"
   ]
  },
  {
   "cell_type": "code",
   "execution_count": 11,
   "id": "05dd1a16",
   "metadata": {},
   "outputs": [],
   "source": [
    "payload = {'grant_type' : 'client_credentials'}\n",
    "url = 'https://accounts.spotify.com/api/token'"
   ]
  },
  {
   "cell_type": "code",
   "execution_count": 12,
   "id": "edc7fe26",
   "metadata": {},
   "outputs": [],
   "source": [
    "session_key_response = requests.post(url = url, data = payload, headers = headers)"
   ]
  },
  {
   "cell_type": "code",
   "execution_count": 13,
   "id": "6d7faf3a",
   "metadata": {},
   "outputs": [],
   "source": [
    "#session_key_response.json()['access_token']"
   ]
  },
  {
   "cell_type": "code",
   "execution_count": 14,
   "id": "8d208221",
   "metadata": {},
   "outputs": [],
   "source": [
    "session_header_key = session_key_response.json()"
   ]
  },
  {
   "cell_type": "code",
   "execution_count": 15,
   "id": "6f857b52",
   "metadata": {},
   "outputs": [],
   "source": [
    "#session_header_key['access_token']"
   ]
  },
  {
   "cell_type": "code",
   "execution_count": 16,
   "id": "b920ec4c",
   "metadata": {},
   "outputs": [],
   "source": [
    "key = session_header_key['access_token']"
   ]
  },
  {
   "cell_type": "code",
   "execution_count": 17,
   "id": "64fc78b1",
   "metadata": {},
   "outputs": [],
   "source": [
    "session_headers = {\"Authorization\" : \"Bearer {}\".format(key)}"
   ]
  },
  {
   "cell_type": "code",
   "execution_count": 18,
   "id": "ef01a87d",
   "metadata": {},
   "outputs": [],
   "source": [
    "#session_headers"
   ]
  },
  {
   "cell_type": "markdown",
   "id": "1689f13e",
   "metadata": {},
   "source": [
    "<h3> Getting The First Time Album </h3>"
   ]
  },
  {
   "cell_type": "code",
   "execution_count": 19,
   "id": "aabca4be",
   "metadata": {},
   "outputs": [],
   "source": [
    "firstTime_id = '63IolVUykZCHMlu2zu9jHS'"
   ]
  },
  {
   "cell_type": "code",
   "execution_count": 20,
   "id": "5f547477",
   "metadata": {},
   "outputs": [],
   "source": [
    "firstTime_album_url = 'https://api.spotify.com/v1/albums/{}/tracks'.format(firstTime_id)"
   ]
  },
  {
   "cell_type": "code",
   "execution_count": 21,
   "id": "b93af829",
   "metadata": {},
   "outputs": [],
   "source": [
    "response = requests.get(url = firstTime_album_url,headers = session_headers)"
   ]
  },
  {
   "cell_type": "code",
   "execution_count": 22,
   "id": "4367bf7f",
   "metadata": {},
   "outputs": [],
   "source": [
    "first = json.loads(response.text) "
   ]
  },
  {
   "cell_type": "code",
   "execution_count": 23,
   "id": "56a9f0f4",
   "metadata": {},
   "outputs": [],
   "source": [
    "firstTime_df = pd.DataFrame(first['items'])"
   ]
  },
  {
   "cell_type": "code",
   "execution_count": 24,
   "id": "e1a90bbe",
   "metadata": {},
   "outputs": [],
   "source": [
    "firstTime_audio_features_url = 'https://api.spotify.com/v1/audio-features?ids={}'.format(','.join(list(firstTime_df['id'])))"
   ]
  },
  {
   "cell_type": "code",
   "execution_count": 25,
   "id": "d5eb3e0f",
   "metadata": {},
   "outputs": [],
   "source": [
    "firstTime_features_response = requests.get(url = firstTime_audio_features_url, headers = session_headers)"
   ]
  },
  {
   "cell_type": "code",
   "execution_count": 26,
   "id": "0d760709",
   "metadata": {},
   "outputs": [],
   "source": [
    "first_audio = firstTime_features_response.json()"
   ]
  },
  {
   "cell_type": "code",
   "execution_count": 27,
   "id": "43452d66",
   "metadata": {},
   "outputs": [],
   "source": [
    "first_valence = [x['valence'] for x in first_audio['audio_features']]"
   ]
  },
  {
   "cell_type": "code",
   "execution_count": 28,
   "id": "4cf8a8e8",
   "metadata": {},
   "outputs": [],
   "source": [
    "first_danceability = [x['danceability'] for x in first_audio['audio_features']]b"
   ]
  },
  {
   "cell_type": "markdown",
   "id": "dd8fb226",
   "metadata": {},
   "source": [
    "The data wrangling for getting these albums was probably the hardest part for me, as I had to figure out the path to get to the valence and danceability features within the audio features API. I could have done this a few different ways, but what I found the easiest for the analysis later on in this report is to use the \"x for x in\" function. This was the easiest for me to do as it saved me time for less possible errors and less typing/code. I only had to call one function name instead of a long one with strings. "
   ]
  },
  {
   "cell_type": "markdown",
   "id": "fd339b73",
   "metadata": {},
   "source": [
    "<h3> Getting 1989 Taylors Version Album </h3>"
   ]
  },
  {
   "cell_type": "code",
   "execution_count": 29,
   "id": "9ae042fe",
   "metadata": {},
   "outputs": [],
   "source": [
    "TV_id = '1o59UpKw81iHR0HPiSkJR0'"
   ]
  },
  {
   "cell_type": "code",
   "execution_count": 30,
   "id": "27d4ef51",
   "metadata": {},
   "outputs": [],
   "source": [
    "TV_album_url = 'https://api.spotify.com/v1/albums/{}/tracks'.format(TV_id)"
   ]
  },
  {
   "cell_type": "code",
   "execution_count": 31,
   "id": "3e9a1812",
   "metadata": {},
   "outputs": [],
   "source": [
    "TV_response = requests.get(url = TV_album_url,headers = session_headers)"
   ]
  },
  {
   "cell_type": "code",
   "execution_count": 32,
   "id": "38a54022",
   "metadata": {},
   "outputs": [],
   "source": [
    "TV = json.loads(TV_response.text)"
   ]
  },
  {
   "cell_type": "code",
   "execution_count": 33,
   "id": "62e1d287",
   "metadata": {},
   "outputs": [],
   "source": [
    "TV_df = pd.DataFrame(TV['items'])"
   ]
  },
  {
   "cell_type": "code",
   "execution_count": 34,
   "id": "ddf2201c",
   "metadata": {},
   "outputs": [],
   "source": [
    "TV_audio_features_url = 'https://api.spotify.com/v1/audio-features?ids={}'.format(','.join(list(TV_df['id'])))"
   ]
  },
  {
   "cell_type": "code",
   "execution_count": 35,
   "id": "388da33d",
   "metadata": {},
   "outputs": [],
   "source": [
    "TV_features_response = requests.get(url = TV_audio_features_url, headers = session_headers)"
   ]
  },
  {
   "cell_type": "code",
   "execution_count": 36,
   "id": "87b9fa7f",
   "metadata": {},
   "outputs": [],
   "source": [
    "TV_audio = TV_features_response.json()"
   ]
  },
  {
   "cell_type": "code",
   "execution_count": 37,
   "id": "67f888e6",
   "metadata": {},
   "outputs": [],
   "source": [
    "TV_valence = [x['valence'] for x in TV_audio['audio_features']]"
   ]
  },
  {
   "cell_type": "code",
   "execution_count": 38,
   "id": "6ba206e7",
   "metadata": {},
   "outputs": [],
   "source": [
    "TV_danceability = [x['danceability'] for x in TV_audio['audio_features']]"
   ]
  },
  {
   "cell_type": "markdown",
   "id": "a6b37586",
   "metadata": {},
   "source": [
    "I think the two audio features that capture the important qualities of the two albums are the valence and danceability. I think this because I believe that they have a direct correlation with each other. A song doesn't typically have a high valence without a high danceability. I also have preconcieved opinions that both of these albums have a high valence and danceability, so I would like to test out this theory. "
   ]
  },
  {
   "cell_type": "markdown",
   "id": "5b5dfac4",
   "metadata": {},
   "source": [
    "<h3> Histogram </h3>"
   ]
  },
  {
   "cell_type": "code",
   "execution_count": 73,
   "id": "68caf279",
   "metadata": {},
   "outputs": [
    {
     "data": {
      "image/png": "[encoded data removed]",
      "text/plain": [
       "<Figure size 640x480 with 2 Axes>"
      ]
     },
     "metadata": {},
     "output_type": "display_data"
    }
   ],
   "source": [
    "fig1, ax1 = plt.subplots(1,2)\n",
    "\n",
    "ax1[0].hist(TV_valence, alpha = .7, color = 'teal')\n",
    "ax1[0].hist(first_valence, alpha = .7, color = 'green')\n",
    "ax1[1].hist(TV_danceability, alpha = .7, color = 'purple')\n",
    "ax1[1].hist(first_danceability,alpha = .7, color = 'pink')\n",
    "ax1[0].set_title('Valence between\\nthe two albums')\n",
    "ax1[1].set_title('Danceability between\\nthe two albums')\n",
    "plt.show()"
   ]
  },
  {
   "cell_type": "markdown",
   "id": "a7ed7619",
   "metadata": {},
   "source": [
    "<h3> What can you conclude? </h3>\n",
    "I can conclude that the danceability seems to be slightly higher in 1989 Taylors version compared to The First Time. Something interesting to point out is that the valence seems to be lower than I would have expected for the both albums ."
   ]
  },
  {
   "cell_type": "markdown",
   "id": "ef975d61",
   "metadata": {},
   "source": [
    "<h3> Scatter Plot </h3>"
   ]
  },
  {
   "cell_type": "code",
   "execution_count": 59,
   "id": "0ef8b0df",
   "metadata": {},
   "outputs": [
    {
     "data": {
      "image/png": "[encoded data removed]",
      "text/plain": [
       "<Figure size 1000x700 with 2 Axes>"
      ]
     },
     "metadata": {},
     "output_type": "display_data"
    }
   ],
   "source": [
    "fig2, ax2 = plt.subplots(1,2, figsize = (10,7))\n",
    "ax2[0].scatter(x = TV_valence,\n",
    "            y = TV_danceability,\n",
    "            label = '1989',\n",
    "            color = 'blue',\n",
    "            alpha = .5,\n",
    "            marker = 'd')\n",
    "ax2[1].scatter(x = first_valence,\n",
    "            y = first_danceability,\n",
    "            label = 'The First Time',\n",
    "            color = 'red',\n",
    "            alpha = .5,\n",
    "            marker = 's')\n",
    "\n",
    "ax2[0].set_ylabel('Danceability')\n",
    "ax2[0].set_xlabel('Valence')\n",
    "ax2[1].set_ylabel('Danceability')\n",
    "ax2[1].set_xlabel('Valence')\n",
    "ax2[0].set_title('1989')\n",
    "ax2[1].set_title('The First Time')\n",
    "\n",
    "plt.show()"
   ]
  },
  {
   "cell_type": "code",
   "execution_count": 52,
   "id": "0554b32f",
   "metadata": {},
   "outputs": [
    {
     "data": {
      "image/png": "[encoded data removed]",
      "text/plain": [
       "<Figure size 640x480 with 1 Axes>"
      ]
     },
     "metadata": {},
     "output_type": "display_data"
    }
   ],
   "source": [
    "fig2, ax2 = plt.subplots()\n",
    "ax2.scatter(x = TV_valence,\n",
    "            y = TV_danceability,\n",
    "            label = '1989',\n",
    "            color = 'blue',\n",
    "            alpha = .5,\n",
    "            marker = 'd')\n",
    "ax2.scatter(x = first_valence, \n",
    "            y = first_danceability, \n",
    "            label = 'First Time',\n",
    "            color = 'red',\n",
    "            alpha = .5,\n",
    "            marker = 's')\n",
    "ax2.set_ylabel('Danceability')\n",
    "ax2.set_xlabel('Valence')\n",
    "ax2.set_title('The relationship between \\nDancability and Valence for Two 2023 Pop Albums')\n",
    "ax2.legend()\n",
    "plt.show()"
   ]
  },
  {
   "cell_type": "markdown",
   "id": "f312543e",
   "metadata": {},
   "source": [
    "The source and structure of the data used in the report was first utilizing spotify's Track and Audio Feature APIs to get access each album, and then their features. The structure of this data is to first show how I used the API's, then I show the valence and danceability between the two in a few different ways for different analysis, in my opinion the scatter plot above is the easiest to understand. I then do a statistical analysis below, using the Ttest function, to show the comparison of the valence between the two albums for those who prefer number data instead of visual. "
   ]
  },
  {
   "cell_type": "markdown",
   "id": "25ee3325",
   "metadata": {},
   "source": [
    "<h3> Boxplot </h3>"
   ]
  },
  {
   "cell_type": "code",
   "execution_count": 58,
   "id": "6a4a1edc",
   "metadata": {},
   "outputs": [
    {
     "data": {
      "image/png": "[encoded data removed]",
      "text/plain": [
       "<Figure size 640x480 with 1 Axes>"
      ]
     },
     "metadata": {},
     "output_type": "display_data"
    }
   ],
   "source": [
    "TV_xs = [1] * len(TV_valence)\n",
    "first_xs = [2] * len(first_valence)\n",
    "TV_x_jitter = np.random.uniform(-0.10,.10, len(TV_xs))\n",
    "first_x_jitter = np.random.uniform(-.10,.10, len(first_xs))\n",
    "\n",
    "\n",
    "fig2, ax2 = plt.subplots()\n",
    "ax2.boxplot(TV_valence,positions = [1])\n",
    "ax2.boxplot(first_valence,positions = [2])\n",
    "ax2.scatter(TV_xs + TV_x_jitter, TV_valence, alpha = .5)\n",
    "ax2.scatter(first_xs + first_x_jitter, first_valence, alpha = .5, color = 'purple')\n",
    "\n",
    "\n",
    "plt.show()"
   ]
  },
  {
   "cell_type": "markdown",
   "id": "6174feb5",
   "metadata": {},
   "source": [
    "<h3> TTest </h3>"
   ]
  },
  {
   "cell_type": "code",
   "execution_count": 412,
   "id": "3dd6446f",
   "metadata": {},
   "outputs": [],
   "source": [
    "result1 = stats.ttest_ind(TV_valence,first_valence)"
   ]
  },
  {
   "cell_type": "code",
   "execution_count": 414,
   "id": "d5a054e7",
   "metadata": {},
   "outputs": [
    {
     "data": {
      "text/plain": [
       "0.8346362732630197"
      ]
     },
     "execution_count": 414,
     "metadata": {},
     "output_type": "execute_result"
    }
   ],
   "source": [
    "result1.pvalue"
   ]
  },
  {
   "cell_type": "markdown",
   "id": "c2380bb3",
   "metadata": {},
   "source": [
    "The results of the ttest_ind tells us that the valence between the two albums is extremely similar, as it is above a 0.05, which is how we know if there is a significant difference between two albums,"
   ]
  },
  {
   "cell_type": "markdown",
   "id": "77e24584",
   "metadata": {},
   "source": [
    "<h3> Conclusion </h3> "
   ]
  },
  {
   "cell_type": "markdown",
   "id": "a60aab5b",
   "metadata": {},
   "source": [
    "Based off the data I have collected and analyzed throughout this project, I can see that the two albums are extremely similar in their valence and danceability. Both 1989 Taylors Version, and The First Time have extremely high valence as well as danceability trends in their albums. "
   ]
  },
  {
   "cell_type": "markdown",
   "id": "115f0cb9",
   "metadata": {},
   "source": [
    "The limitations of the data and analysis are that I cannot see the valence and danceability of each song. Alternative approaches to this could be doing an individual analysis of each song on the album to see their invidual valence and dancability scores. Potential next steps for this analysis would be to test more audio features between each album to see a more in-depth comparison. "
   ]
  },
  {
   "cell_type": "code",
   "execution_count": null,
   "id": "a58539d2",
   "metadata": {},
   "outputs": [],
   "source": []
  }
 ],
 "metadata": {
  "kernelspec": {
   "display_name": "Python 3 (ipykernel)",
   "language": "python",
   "name": "python3"
  },
  "language_info": {
   "codemirror_mode": {
    "name": "ipython",
    "version": 3
   },
   "file_extension": ".py",
   "mimetype": "text/x-python",
   "name": "python",
   "nbconvert_exporter": "python",
   "pygments_lexer": "ipython3",
   "version": "3.11.4"
  }
 },
 "nbformat": 4,
 "nbformat_minor": 5
}
