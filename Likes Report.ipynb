{
 "cells": [
  {
   "cell_type": "markdown",
   "id": "80ae9474",
   "metadata": {},
   "source": [
    "Brookes Instagram Data Report. Hypothesis: My top liked account will be a fashion account. "
   ]
  },
  {
   "cell_type": "markdown",
   "id": "bcbb84cd",
   "metadata": {},
   "source": [
    "The theoretical applications of my hypothesis are that I have taken up a liking towards fashion and \"influencers\" fashion posts. My discover page consists of mostly fashion/clothing related posts so I believe that this is my top liked account. The statistical applications of my hypothesis are that I believe that the algorithm knows my top data and knows that I will interact with it on the discover page since. "
   ]
  },
  {
   "cell_type": "markdown",
   "id": "0919eb1b",
   "metadata": {},
   "source": [
    "The data included in the liked_posts.json file is appropriate for testing your hypothesis because it shows all of the data I have collected since the beginning of my entire instagram account, which was early 2010s. Since the algorithm has been collecting my data for such a long time, the algorithm has seen all of my interests throughout the years."
   ]
  },
  {
   "cell_type": "markdown",
   "id": "0dca107b",
   "metadata": {},
   "source": [
    "Instagram data analysts collected this data.\n",
    "This data is collected in order for business accounts to analyze their insights.\n",
    "This data may be reliable because there is most likely a group of data analysts and people in marketing who work together for Instagram that must know all this infromation so that they can promote users interests, as well as ads to the user. \n",
    "This data may be unreliable because it is most likely overall in the hands of a computer to gather the overall information. Tehcnology isn't always perfect and has a great possibility of error, there could be missing data. "
   ]
  },
  {
   "cell_type": "code",
   "execution_count": 3,
   "id": "7dee8696",
   "metadata": {},
   "outputs": [],
   "source": [
    "import pandas as pd\n",
    "import json "
   ]
  },
  {
   "cell_type": "markdown",
   "id": "ad8f43f4",
   "metadata": {},
   "source": [
    "My first step is importing my current instagram data downloaded onto my computer in a jsnon file using the \"with open\" function, wich opens the file following the current pathway on my computer and opening it as j, which is just the name I picked. Then I am able to save the file by using the .load function and storing it into my_data. "
   ]
  },
  {
   "cell_type": "code",
   "execution_count": 4,
   "id": "562305e8",
   "metadata": {},
   "outputs": [],
   "source": [
    "with open (\"/Users/brookemoncol/Desktop/brooke.moncol_20230905/likes/liked_posts.json\") as j: \n",
    "    my_data = json.load(j)"
   ]
  },
  {
   "cell_type": "markdown",
   "id": "31fe80e6",
   "metadata": {},
   "source": [
    "My next step is to create a data frame. I do this by using the function pd.DataFrame, then accessing the file with my data saved, which is stored in \"my_data\" and accessing the likes_media_likes folder. I am then sotring this into a new function called likes_data.  "
   ]
  },
  {
   "cell_type": "code",
   "execution_count": 5,
   "id": "cc9fc98b",
   "metadata": {},
   "outputs": [],
   "source": [
    "likes_data = pd.DataFrame(my_data['likes_media_likes'])"
   ]
  },
  {
   "cell_type": "markdown",
   "id": "9c42b9ec",
   "metadata": {},
   "source": [
    "The third step is to create a new column called timestamps, which shows my likes per account. I do this by taking my_data and accessing the the likes_media_likes folder. Taking the 0 element in the list for string_list_data and timestamp . I then use list comprehension and store that newly created information in a new function called new_list. Then I am able to take the new column timestamp and add it to the new_list function. "
   ]
  },
  {
   "cell_type": "code",
   "execution_count": 6,
   "id": "52918d92",
   "metadata": {},
   "outputs": [],
   "source": [
    "likes = my_data['likes_media_likes'][0]['string_list_data'][0]['timestamp']"
   ]
  },
  {
   "cell_type": "code",
   "execution_count": 7,
   "id": "6ccdb731",
   "metadata": {},
   "outputs": [],
   "source": [
    "new_list = [x['string_list_data'][0]['timestamp'] for x in my_data['likes_media_likes']]"
   ]
  },
  {
   "cell_type": "code",
   "execution_count": 9,
   "id": "cfd81e06",
   "metadata": {},
   "outputs": [],
   "source": [
    "likes_data['timestamp'] = new_list"
   ]
  },
  {
   "cell_type": "markdown",
   "id": "5580850d",
   "metadata": {},
   "source": [
    "My final step is to sort the likes per account from the beginning, including the top 10, as I feel a fashion account will be majority of the accounts shown. I do this by using the groupby function, which groups the data by the title, and use the count function to show the string_list_data. I store this information in a new function called grouped. I then use the sort_values function with my previous grouped function to sort the number of likes to go from descending, to see which is my topped liked account, and to use the .head function as well to show my topped 10 likes. "
   ]
  },
  {
   "cell_type": "code",
   "execution_count": 65,
   "id": "38893a84",
   "metadata": {},
   "outputs": [],
   "source": [
    "grouped = likes_data.groupby('title').count()"
   ]
  },
  {
   "cell_type": "code",
   "execution_count": 84,
   "id": "65000ce7",
   "metadata": {},
   "outputs": [
    {
     "data": {
      "text/html": [
       "<div>\n",
       "<style scoped>\n",
       "    .dataframe tbody tr th:only-of-type {\n",
       "        vertical-align: middle;\n",
       "    }\n",
       "\n",
       "    .dataframe tbody tr th {\n",
       "        vertical-align: top;\n",
       "    }\n",
       "\n",
       "    .dataframe thead th {\n",
       "        text-align: right;\n",
       "    }\n",
       "</style>\n",
       "<table border=\"1\" class=\"dataframe\">\n",
       "  <thead>\n",
       "    <tr style=\"text-align: right;\">\n",
       "      <th></th>\n",
       "      <th>string_list_data</th>\n",
       "      <th>timestamp</th>\n",
       "    </tr>\n",
       "    <tr>\n",
       "      <th>title</th>\n",
       "      <th></th>\n",
       "      <th></th>\n",
       "    </tr>\n",
       "  </thead>\n",
       "  <tbody>\n",
       "    <tr>\n",
       "      <th>cavs</th>\n",
       "      <td>1145</td>\n",
       "      <td>1145</td>\n",
       "    </tr>\n",
       "    <tr>\n",
       "      <th>cohmedy</th>\n",
       "      <td>1107</td>\n",
       "      <td>1107</td>\n",
       "    </tr>\n",
       "    <tr>\n",
       "      <th>hoenest</th>\n",
       "      <td>929</td>\n",
       "      <td>929</td>\n",
       "    </tr>\n",
       "    <tr>\n",
       "      <th>sarcasm_only</th>\n",
       "      <td>920</td>\n",
       "      <td>920</td>\n",
       "    </tr>\n",
       "    <tr>\n",
       "      <th>tartecosmetics</th>\n",
       "      <td>873</td>\n",
       "      <td>873</td>\n",
       "    </tr>\n",
       "    <tr>\n",
       "      <th>ouatconfessions</th>\n",
       "      <td>848</td>\n",
       "      <td>848</td>\n",
       "    </tr>\n",
       "    <tr>\n",
       "      <th>anastasiabeverlyhills</th>\n",
       "      <td>762</td>\n",
       "      <td>762</td>\n",
       "    </tr>\n",
       "    <tr>\n",
       "      <th>memequeen</th>\n",
       "      <td>670</td>\n",
       "      <td>670</td>\n",
       "    </tr>\n",
       "    <tr>\n",
       "      <th>maccosmetics</th>\n",
       "      <td>626</td>\n",
       "      <td>626</td>\n",
       "    </tr>\n",
       "    <tr>\n",
       "      <th>prettylittleliars</th>\n",
       "      <td>579</td>\n",
       "      <td>579</td>\n",
       "    </tr>\n",
       "  </tbody>\n",
       "</table>\n",
       "</div>"
      ],
      "text/plain": [
       "                       string_list_data  timestamp\n",
       "title                                             \n",
       "cavs                               1145       1145\n",
       "cohmedy                            1107       1107\n",
       "hoenest                             929        929\n",
       "sarcasm_only                        920        920\n",
       "tartecosmetics                      873        873\n",
       "ouatconfessions                     848        848\n",
       "anastasiabeverlyhills               762        762\n",
       "memequeen                           670        670\n",
       "maccosmetics                        626        626\n",
       "prettylittleliars                   579        579"
      ]
     },
     "execution_count": 84,
     "metadata": {},
     "output_type": "execute_result"
    }
   ],
   "source": [
    "grouped.sort_values('timestamp', ascending = False).head(10)"
   ]
  },
  {
   "cell_type": "markdown",
   "id": "179143b8",
   "metadata": {},
   "source": [
    "This data tells me that my none of my top 10 liked accounts were about fashion, and my top liked account was the Cavs, as I have liked a post from the cavs account 1145 times as you can see from the \"timestamp\" column. I think there are some limitations to this process as I wish we could also filter out the information by year. This would give me the opportunity to get more concise data as my interest have switched throughout the years. Other data that I could use from my Instagram personal account files would be to group by the average account titles that I have liked posts from. "
   ]
  }
 ],
 "metadata": {
  "kernelspec": {
   "display_name": "Python 3 (ipykernel)",
   "language": "python",
   "name": "python3"
  },
  "language_info": {
   "codemirror_mode": {
    "name": "ipython",
    "version": 3
   },
   "file_extension": ".py",
   "mimetype": "text/x-python",
   "name": "python",
   "nbconvert_exporter": "python",
   "pygments_lexer": "ipython3",
   "version": "3.11.4"
  }
 },
 "nbformat": 4,
 "nbformat_minor": 5
}
