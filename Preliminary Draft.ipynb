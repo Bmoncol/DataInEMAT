{
 "cells": [
  {
   "cell_type": "markdown",
   "id": "5f98c8f5",
   "metadata": {},
   "source": [
    "<h1> Preliminary Draft </h1>"
   ]
  },
  {
   "cell_type": "markdown",
   "id": "0ca726a4",
   "metadata": {},
   "source": [
    "<h3> Brooke Moncol </h3> \n",
    "<h3> 12/5/23 </h3>"
   ]
  },
  {
   "cell_type": "markdown",
   "id": "d25a357b",
   "metadata": {},
   "source": [
    "<h3> The data:</h3>"
   ]
  },
  {
   "cell_type": "code",
   "execution_count": 87,
   "id": "be9d358e",
   "metadata": {},
   "outputs": [],
   "source": [
    "import pandas as pd\n",
    "import numpy as np \n",
    "from scipy import stats\n",
    "from matplotlib import pyplot as plt"
   ]
  },
  {
   "cell_type": "markdown",
   "id": "ad0fb3cb",
   "metadata": {},
   "source": [
    "The purpose of this analysis is to see if there is progress being made within women in the STEM field. My inital/driving question was to know why there is such a lack of women in STEM. Unfortunately, there is no specific data that I can gather to answer that question, we can analyze surveys but at the end of the day there is no one specific answer. What motivates me about this analysis and project is that it directly impacts me, I am a women within the STEM field, and I know there is bias towards us. I would like to be able to show more women the benefits of what STEM can provide for a person. \n"
   ]
  },
  {
   "cell_type": "code",
   "execution_count": 88,
   "id": "25d7d3e8",
   "metadata": {},
   "outputs": [],
   "source": [
    "OSU = pd.read_csv('OSU Enrollment Rate.csv')"
   ]
  },
  {
   "cell_type": "code",
   "execution_count": 89,
   "id": "50b38a6f",
   "metadata": {
    "scrolled": false
   },
   "outputs": [
    {
     "data": {
      "text/html": [
       "<div>\n",
       "<style scoped>\n",
       "    .dataframe tbody tr th:only-of-type {\n",
       "        vertical-align: middle;\n",
       "    }\n",
       "\n",
       "    .dataframe tbody tr th {\n",
       "        vertical-align: top;\n",
       "    }\n",
       "\n",
       "    .dataframe thead th {\n",
       "        text-align: right;\n",
       "    }\n",
       "</style>\n",
       "<table border=\"1\" class=\"dataframe\">\n",
       "  <thead>\n",
       "    <tr style=\"text-align: right;\">\n",
       "      <th></th>\n",
       "      <th>Years</th>\n",
       "      <th>Total Students</th>\n",
       "      <th>Male Students</th>\n",
       "      <th>Male Percentage</th>\n",
       "      <th>Female Students</th>\n",
       "      <th>Female Percentage</th>\n",
       "    </tr>\n",
       "  </thead>\n",
       "  <tbody>\n",
       "    <tr>\n",
       "      <th>0</th>\n",
       "      <td>2014</td>\n",
       "      <td>10,424</td>\n",
       "      <td>8,152</td>\n",
       "      <td>78.20%</td>\n",
       "      <td>2,272</td>\n",
       "      <td>21.80%</td>\n",
       "    </tr>\n",
       "    <tr>\n",
       "      <th>1</th>\n",
       "      <td>2015</td>\n",
       "      <td>10,430</td>\n",
       "      <td>8,079</td>\n",
       "      <td>77.46%</td>\n",
       "      <td>2,351</td>\n",
       "      <td>22.54%</td>\n",
       "    </tr>\n",
       "    <tr>\n",
       "      <th>2</th>\n",
       "      <td>2016</td>\n",
       "      <td>10,817</td>\n",
       "      <td>8,253</td>\n",
       "      <td>76.30%</td>\n",
       "      <td>2,564</td>\n",
       "      <td>23.70%</td>\n",
       "    </tr>\n",
       "    <tr>\n",
       "      <th>3</th>\n",
       "      <td>2017</td>\n",
       "      <td>10,656</td>\n",
       "      <td>8,111</td>\n",
       "      <td>76.12%</td>\n",
       "      <td>2,545</td>\n",
       "      <td>23.88%</td>\n",
       "    </tr>\n",
       "    <tr>\n",
       "      <th>4</th>\n",
       "      <td>2018</td>\n",
       "      <td>10,786</td>\n",
       "      <td>8,130</td>\n",
       "      <td>75.38%</td>\n",
       "      <td>2,656</td>\n",
       "      <td>24.62%</td>\n",
       "    </tr>\n",
       "    <tr>\n",
       "      <th>5</th>\n",
       "      <td>2019</td>\n",
       "      <td>10,619</td>\n",
       "      <td>7,983</td>\n",
       "      <td>75.18%</td>\n",
       "      <td>2,636</td>\n",
       "      <td>24.82%</td>\n",
       "    </tr>\n",
       "    <tr>\n",
       "      <th>6</th>\n",
       "      <td>2020</td>\n",
       "      <td>10,320</td>\n",
       "      <td>7,751</td>\n",
       "      <td>75.11%</td>\n",
       "      <td>2,569</td>\n",
       "      <td>24.89%</td>\n",
       "    </tr>\n",
       "    <tr>\n",
       "      <th>7</th>\n",
       "      <td>2021</td>\n",
       "      <td>10,692</td>\n",
       "      <td>8,031</td>\n",
       "      <td>75.11%</td>\n",
       "      <td>2,661</td>\n",
       "      <td>24.89%</td>\n",
       "    </tr>\n",
       "    <tr>\n",
       "      <th>8</th>\n",
       "      <td>2022</td>\n",
       "      <td>10,761</td>\n",
       "      <td>8,028</td>\n",
       "      <td>74.60%</td>\n",
       "      <td>2,733</td>\n",
       "      <td>25.40%</td>\n",
       "    </tr>\n",
       "    <tr>\n",
       "      <th>9</th>\n",
       "      <td>2023</td>\n",
       "      <td>11,111</td>\n",
       "      <td>8,261</td>\n",
       "      <td>74.35%</td>\n",
       "      <td>2,850</td>\n",
       "      <td>25.65%</td>\n",
       "    </tr>\n",
       "  </tbody>\n",
       "</table>\n",
       "</div>"
      ],
      "text/plain": [
       "   Years Total Students Male Students Male Percentage Female Students  \\\n",
       "0   2014         10,424         8,152          78.20%           2,272   \n",
       "1   2015         10,430         8,079          77.46%           2,351   \n",
       "2   2016         10,817         8,253          76.30%           2,564   \n",
       "3   2017         10,656         8,111          76.12%           2,545   \n",
       "4   2018         10,786         8,130          75.38%           2,656   \n",
       "5   2019         10,619         7,983          75.18%           2,636   \n",
       "6   2020         10,320         7,751          75.11%           2,569   \n",
       "7   2021         10,692         8,031          75.11%           2,661   \n",
       "8   2022         10,761         8,028          74.60%           2,733   \n",
       "9   2023         11,111         8,261          74.35%           2,850   \n",
       "\n",
       "  Female Percentage  \n",
       "0            21.80%  \n",
       "1            22.54%  \n",
       "2            23.70%  \n",
       "3            23.88%  \n",
       "4            24.62%  \n",
       "5            24.82%  \n",
       "6            24.89%  \n",
       "7            24.89%  \n",
       "8            25.40%  \n",
       "9            25.65%  "
      ]
     },
     "execution_count": 89,
     "metadata": {},
     "output_type": "execute_result"
    }
   ],
   "source": [
    "OSU"
   ]
  },
  {
   "cell_type": "markdown",
   "id": "dc4a70ac",
   "metadata": {},
   "source": [
    "The starting point of this anaylsis was trying to find something that meant a lot to me that I could find usable data for. I was abe to find lots of information about women within the STEM career, but lots of the data was just people throwing out percentages, not anything solid. I decided to take the question into another approach, I wanted to do an comparision between two pieces of data that can directly show an improvement within women in STEM. I wanted to narrow it down to Ohio once I found OSU'S STEM enrollment rate stats from the past nine years, however, I wasn't able to find anything that I could fully use. I was able to find stats within the whole country about different jobs and the amount of women and men within them, from 2022. There are no other projects that I am directly following for mine. \n"
   ]
  },
  {
   "cell_type": "code",
   "execution_count": 90,
   "id": "c4dd506c",
   "metadata": {},
   "outputs": [],
   "source": [
    "Jobs = pd.read_csv('Jobs.csv')"
   ]
  },
  {
   "cell_type": "code",
   "execution_count": 91,
   "id": "b16830f6",
   "metadata": {
    "scrolled": true
   },
   "outputs": [
    {
     "data": {
      "text/html": [
       "<div>\n",
       "<style scoped>\n",
       "    .dataframe tbody tr th:only-of-type {\n",
       "        vertical-align: middle;\n",
       "    }\n",
       "\n",
       "    .dataframe tbody tr th {\n",
       "        vertical-align: top;\n",
       "    }\n",
       "\n",
       "    .dataframe thead th {\n",
       "        text-align: right;\n",
       "    }\n",
       "</style>\n",
       "<table border=\"1\" class=\"dataframe\">\n",
       "  <thead>\n",
       "    <tr style=\"text-align: right;\">\n",
       "      <th></th>\n",
       "      <th>Job Title</th>\n",
       "      <th>Total</th>\n",
       "      <th>Percentage of Women</th>\n",
       "      <th>Total number of women</th>\n",
       "    </tr>\n",
       "  </thead>\n",
       "  <tbody>\n",
       "    <tr>\n",
       "      <th>0</th>\n",
       "      <td>Electrical and electronics installers and repa...</td>\n",
       "      <td>0</td>\n",
       "      <td>NaN</td>\n",
       "      <td>NaN</td>\n",
       "    </tr>\n",
       "    <tr>\n",
       "      <th>1</th>\n",
       "      <td>Desktop publishers</td>\n",
       "      <td>1</td>\n",
       "      <td>NaN</td>\n",
       "      <td>NaN</td>\n",
       "    </tr>\n",
       "    <tr>\n",
       "      <th>2</th>\n",
       "      <td>Survey researchers</td>\n",
       "      <td>2</td>\n",
       "      <td>NaN</td>\n",
       "      <td>NaN</td>\n",
       "    </tr>\n",
       "    <tr>\n",
       "      <th>3</th>\n",
       "      <td>Mining and geological engineers, including min...</td>\n",
       "      <td>3</td>\n",
       "      <td>NaN</td>\n",
       "      <td>NaN</td>\n",
       "    </tr>\n",
       "    <tr>\n",
       "      <th>4</th>\n",
       "      <td>Agricultural engineers</td>\n",
       "      <td>4</td>\n",
       "      <td>NaN</td>\n",
       "      <td>NaN</td>\n",
       "    </tr>\n",
       "    <tr>\n",
       "      <th>...</th>\n",
       "      <td>...</td>\n",
       "      <td>...</td>\n",
       "      <td>...</td>\n",
       "      <td>...</td>\n",
       "    </tr>\n",
       "    <tr>\n",
       "      <th>96</th>\n",
       "      <td>Management analysts</td>\n",
       "      <td>1,045</td>\n",
       "      <td>48.20%</td>\n",
       "      <td>504.0</td>\n",
       "    </tr>\n",
       "    <tr>\n",
       "      <th>97</th>\n",
       "      <td>Life, physical, and social science occupations</td>\n",
       "      <td>1,840</td>\n",
       "      <td>48.20%</td>\n",
       "      <td>887.0</td>\n",
       "    </tr>\n",
       "    <tr>\n",
       "      <th>98</th>\n",
       "      <td>Software developers</td>\n",
       "      <td>2,085</td>\n",
       "      <td>21.50%</td>\n",
       "      <td>448.0</td>\n",
       "    </tr>\n",
       "    <tr>\n",
       "      <th>99</th>\n",
       "      <td>Computer and mathematical occupations</td>\n",
       "      <td>6,171</td>\n",
       "      <td>26.70%</td>\n",
       "      <td>1648.0</td>\n",
       "    </tr>\n",
       "    <tr>\n",
       "      <th>100</th>\n",
       "      <td>Production occupations</td>\n",
       "      <td>8,256</td>\n",
       "      <td>29.80%</td>\n",
       "      <td>2460.0</td>\n",
       "    </tr>\n",
       "  </tbody>\n",
       "</table>\n",
       "<p>101 rows × 4 columns</p>\n",
       "</div>"
      ],
      "text/plain": [
       "                                             Job Title  Total  \\\n",
       "0    Electrical and electronics installers and repa...      0   \n",
       "1                                   Desktop publishers      1   \n",
       "2                                   Survey researchers      2   \n",
       "3    Mining and geological engineers, including min...      3   \n",
       "4                               Agricultural engineers      4   \n",
       "..                                                 ...    ...   \n",
       "96                                 Management analysts  1,045   \n",
       "97      Life, physical, and social science occupations  1,840   \n",
       "98                                 Software developers  2,085   \n",
       "99               Computer and mathematical occupations  6,171   \n",
       "100                             Production occupations  8,256   \n",
       "\n",
       "    Percentage of Women  Total number of women  \n",
       "0                   NaN                    NaN  \n",
       "1                   NaN                    NaN  \n",
       "2                   NaN                    NaN  \n",
       "3                   NaN                    NaN  \n",
       "4                   NaN                    NaN  \n",
       "..                  ...                    ...  \n",
       "96               48.20%                  504.0  \n",
       "97               48.20%                  887.0  \n",
       "98               21.50%                  448.0  \n",
       "99               26.70%                 1648.0  \n",
       "100              29.80%                 2460.0  \n",
       "\n",
       "[101 rows x 4 columns]"
      ]
     },
     "execution_count": 91,
     "metadata": {},
     "output_type": "execute_result"
    }
   ],
   "source": [
    "Jobs"
   ]
  },
  {
   "cell_type": "code",
   "execution_count": 92,
   "id": "ca97ce21",
   "metadata": {},
   "outputs": [],
   "source": [
    "TotalJobs = Jobs['Total']"
   ]
  },
  {
   "cell_type": "code",
   "execution_count": 93,
   "id": "a7cdb0af",
   "metadata": {},
   "outputs": [],
   "source": [
    "TotalWomen = Jobs['Total number of women']"
   ]
  },
  {
   "cell_type": "code",
   "execution_count": 94,
   "id": "09460039",
   "metadata": {},
   "outputs": [],
   "source": [
    "TotalEnrollment = OSU['Total Students']"
   ]
  },
  {
   "cell_type": "code",
   "execution_count": 95,
   "id": "3ddc6d52",
   "metadata": {},
   "outputs": [],
   "source": [
    "EnrollWomen = OSU['Female Students']"
   ]
  },
  {
   "cell_type": "markdown",
   "id": "b9e4bd07",
   "metadata": {},
   "source": [
    "The source of the data is from Ohio State University as well as from the U.S. Bureau of Labor Statistics. The value that the these two data sets have is that they have the total amount as well as the total number of women, along with the percentages. The reason that these aspects are so important is because it allows me to see the difference between the two to see if progress is being made. \n"
   ]
  },
  {
   "cell_type": "markdown",
   "id": "ad7d85ae",
   "metadata": {},
   "source": [
    "The data is organized within two difference csv files, each containing the total number, total number of women, total percentage, and total number of woman percentage, then OSU has the years and the Jobs data set has each job title. The pieces of information that I used within this project are the toatl number of people and the total number of women, as this is my direct comparision analysis. \n"
   ]
  },
  {
   "cell_type": "markdown",
   "id": "4fe784c3",
   "metadata": {},
   "source": [
    "<h1> Scatterplot</h1>"
   ]
  },
  {
   "cell_type": "code",
   "execution_count": 174,
   "id": "f9890400",
   "metadata": {},
   "outputs": [
    {
     "data": {
      "image/png": "[encoded data removed]",
      "text/plain": [
       "<Figure size 2000x2000 with 2 Axes>"
      ]
     },
     "metadata": {},
     "output_type": "display_data"
    }
   ],
   "source": [
    "fig2, ax2 = plt.subplots(1,2, figsize = (20,20))\n",
    "ax2[1].scatter(x = TotalEnrollment, \n",
    "            y = EnrollWomen, \n",
    "            label = 'Ohio State',\n",
    "            color = 'red',\n",
    "            alpha = .5,\n",
    "            marker = 's')\n",
    "ax2[0].scatter(x = TotalJobs,\n",
    "            y = TotalWomen,\n",
    "            label = 'Jobs',\n",
    "            color = 'blue',\n",
    "            alpha = .5,\n",
    "            marker = 'd')\n",
    "ax2[0].set_ylabel('Total Women')\n",
    "ax2[1].set_ylabel('Total Women')\n",
    "ax2[0].set_xlabel('Total number of people')\n",
    "ax2[1].set_xlabel('Total number of people')\n",
    "ax2[0].set_title('Jobs in the STEM Field in 2022')\n",
    "ax2[1].set_title('Ohio States enrollment rate in STEM each year')\n",
    "ax2[0].set_xticks([0,30,40,50,60,70,80,90],labels =['0','50','70','100','300','500','1000','8300'])\n",
    "plt.show()"
   ]
  },
  {
   "cell_type": "markdown",
   "id": "1a617597",
   "metadata": {},
   "source": [
    "The only thing I did with the OSU data was putting it into an excel sheet and saving it as a csv file. For the U.S. Bureau Job data, I decided to delete any job that did not involve Computers, Science, Math, or Engineering. I then only had the total number of people with the job, and the female percentage, so I made a new column called \"Total Women\" and calculated the total number. I then sorted the values form smallest to largest. Tha analysis conducted that each year more women enroll within the STEM program at OSU, however, compared to the total number of people within the STEM careers listed within the data set, not many women are working within that career. "
   ]
  },
  {
   "cell_type": "markdown",
   "id": "897378ca",
   "metadata": {},
   "source": [
    "What the audience should take away from this project is that yes there is progress being made within women becoming involved and interested within the STEM field, however, I do not believe it is enough. We can see that each STEM job has on average, less than half of women working within that careeer. Th"
   ]
  },
  {
   "cell_type": "markdown",
   "id": "faefc5b8",
   "metadata": {},
   "source": [
    "What I have learned through this analysis is that not many women are getting jobs within the STEM field, still, compared to men. The new question this presents to me is are women not getting the jobs within the field because they don't want to, or because they can't. Are men still favored over women during the hiring process? The limitations and blindspots that I have within this analysis is that no one can give a solid, 100% correct answer to these questions. I don't have access to companies brains and who, or if they favor one gender over the other. I also cannot answer nor find out the exact reason for why women may not want to get involved with STEM. Is it because it's hard or because they're worried of experiencing discrimination in the workplace. \n"
   ]
  },
  {
   "cell_type": "code",
   "execution_count": null,
   "id": "73c8a52b",
   "metadata": {},
   "outputs": [],
   "source": []
  }
 ],
 "metadata": {
  "kernelspec": {
   "display_name": "Python 3 (ipykernel)",
   "language": "python",
   "name": "python3"
  },
  "language_info": {
   "codemirror_mode": {
    "name": "ipython",
    "version": 3
   },
   "file_extension": ".py",
   "mimetype": "text/x-python",
   "name": "python",
   "nbconvert_exporter": "python",
   "pygments_lexer": "ipython3",
   "version": "3.11.4"
  }
 },
 "nbformat": 4,
 "nbformat_minor": 5
}
