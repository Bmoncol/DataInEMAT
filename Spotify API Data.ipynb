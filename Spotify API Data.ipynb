{
 "cells": [
  {
   "cell_type": "markdown",
   "id": "3d86d1a8",
   "metadata": {},
   "source": [
    "<h1> Spotify API Data </h1>\n",
    "<h2> Brooke Moncol </h2>\n",
    "<h2> 10/10/23 </h2>"
   ]
  },
  {
   "cell_type": "markdown",
   "id": "7affb380",
   "metadata": {},
   "source": [
    "<h6> My hypothesis is that if a playlist is titled \"computer playlist\", will the genres within the playlist be similar to the genres in a playlist titled \"phone playlist\". </h6>"
   ]
  },
  {
   "cell_type": "markdown",
   "id": "858f5aca",
   "metadata": {},
   "source": [
    "Theoretical applications: My theoretical application is that I believe that a person will play different generes on music depending on what type of device they use. I couldn't use the device type within Spotify API, so I decided to look up certain playlists. I looked up \"Computer Playlist\" in hopes that the playlist will be played on ones computer, as well as doing the same for \"Phone Playlist\". I chose the computer playlist that I did because I saw a cover photo on it and made me believe that it would have a lot of avaliable content, which it did. I then chose the specific phone playlist because it had a similar amount of songs in the playlist as the computer playlist, so I thought it would be a more fair comparison. \n",
    "\n",
    "\n",
    "Statistical applications: My statistical application is that I did some research about the way audio is affected based off the device you choose to listen on. I found, as I predicted, that listening on a computer is better in terms of audio levels and other aspects, compared to listening on a phone. "
   ]
  },
  {
   "cell_type": "markdown",
   "id": "09f4b02e",
   "metadata": {},
   "source": [
    "<h3> Setting Up Application </h3>"
   ]
  },
  {
   "cell_type": "code",
   "execution_count": 185,
   "id": "783be0b6",
   "metadata": {},
   "outputs": [],
   "source": [
    "import requests\n",
    "import pandas as pd\n",
    "import base64\n",
    "import json"
   ]
  },
  {
   "cell_type": "code",
   "execution_count": 186,
   "id": "9e978981",
   "metadata": {},
   "outputs": [],
   "source": [
    "Client_ID = pd.read_csv('Spotify_Keys_9-19-23')['Client_ID'].iloc[0]"
   ]
  },
  {
   "cell_type": "code",
   "execution_count": 187,
   "id": "deb0d7e7",
   "metadata": {},
   "outputs": [],
   "source": [
    "Client_Secret = pd.read_csv('Spotify_Keys_9-19-23')['Client_Secret'].iloc[0]"
   ]
  },
  {
   "cell_type": "code",
   "execution_count": 188,
   "id": "4d729583",
   "metadata": {},
   "outputs": [],
   "source": [
    "#Client_ID"
   ]
  },
  {
   "cell_type": "code",
   "execution_count": 189,
   "id": "1fdfcc01",
   "metadata": {},
   "outputs": [],
   "source": [
    "#Client_Secret"
   ]
  },
  {
   "cell_type": "code",
   "execution_count": 190,
   "id": "0b712a85",
   "metadata": {},
   "outputs": [],
   "source": [
    "client_cred = base64.b64encode(str(Client_ID + \":\" + Client_Secret).encode(\"ascii\"))"
   ]
  },
  {
   "cell_type": "code",
   "execution_count": 191,
   "id": "fca99bc2",
   "metadata": {},
   "outputs": [],
   "source": [
    "#client_cred"
   ]
  },
  {
   "cell_type": "code",
   "execution_count": 192,
   "id": "ea850eb4",
   "metadata": {},
   "outputs": [],
   "source": [
    "headers = {\"Authorization\" : \"Basic {}\".format(client_cred.decode(\"ascii\"))}"
   ]
  },
  {
   "cell_type": "code",
   "execution_count": 193,
   "id": "e6e62d25",
   "metadata": {},
   "outputs": [],
   "source": [
    "payload = {'grant_type' : 'client_credentials'}\n",
    "url = 'https://accounts.spotify.com/api/token'"
   ]
  },
  {
   "cell_type": "code",
   "execution_count": 194,
   "id": "5fa28048",
   "metadata": {},
   "outputs": [],
   "source": [
    "session_key_response = requests.post(url = url, data = payload, headers = headers)"
   ]
  },
  {
   "cell_type": "code",
   "execution_count": 195,
   "id": "50713334",
   "metadata": {},
   "outputs": [],
   "source": [
    "#session_key_response.json()['access_token']"
   ]
  },
  {
   "cell_type": "code",
   "execution_count": 196,
   "id": "b5516371",
   "metadata": {},
   "outputs": [],
   "source": [
    "session_header_key = session_key_response.json()"
   ]
  },
  {
   "cell_type": "code",
   "execution_count": 197,
   "id": "2be378e3",
   "metadata": {},
   "outputs": [],
   "source": [
    "#session_header_key['access_token']"
   ]
  },
  {
   "cell_type": "code",
   "execution_count": 198,
   "id": "463a855a",
   "metadata": {},
   "outputs": [],
   "source": [
    "key = session_header_key['access_token']"
   ]
  },
  {
   "cell_type": "code",
   "execution_count": 199,
   "id": "55b6e852",
   "metadata": {},
   "outputs": [],
   "source": [
    "session_headers = {\"Authorization\" : \"Bearer {}\".format(key)}"
   ]
  },
  {
   "cell_type": "code",
   "execution_count": 200,
   "id": "208dbbe9",
   "metadata": {},
   "outputs": [],
   "source": [
    "#session_headers"
   ]
  },
  {
   "cell_type": "markdown",
   "id": "1681b319",
   "metadata": {},
   "source": [
    "<h3> Phone Data </h3>"
   ]
  },
  {
   "cell_type": "markdown",
   "id": "de11f992",
   "metadata": {},
   "source": [
    "The Spotify API endpoints I will use to collect data are the playlist endpoint, which I will be using to pinpoint the playlists I intend of working with by using their ID\"s. Next is the tracks endpoint, which is what I will be using to pull out the first five tracks within the playlist. The last endpoint I will be using is the avaliable genre seeds endpoint, which is how I can find out all the genres within the selected playlist. "
   ]
  },
  {
   "cell_type": "code",
   "execution_count": 140,
   "id": "d4560c5a",
   "metadata": {},
   "outputs": [],
   "source": [
    "phone_id = '7EFmUG0ojIlQYbXhMJt9ba'"
   ]
  },
  {
   "cell_type": "code",
   "execution_count": 141,
   "id": "a6ef73e3",
   "metadata": {},
   "outputs": [],
   "source": [
    "phone_url = 'https://api.spotify.com/v1/playlists/{}'.format(phone_id)"
   ]
  },
  {
   "cell_type": "code",
   "execution_count": 142,
   "id": "c968adac",
   "metadata": {},
   "outputs": [],
   "source": [
    "phone_response = requests.get(url = phone_url,headers = session_headers)"
   ]
  },
  {
   "cell_type": "code",
   "execution_count": 143,
   "id": "5e58e14b",
   "metadata": {},
   "outputs": [],
   "source": [
    "phone_data = phone_response.json()"
   ]
  },
  {
   "cell_type": "code",
   "execution_count": 144,
   "id": "0aea7093",
   "metadata": {},
   "outputs": [],
   "source": [
    "phone_tracks_url = 'https://api.spotify.com/v1/tracks?ids=1UGD3lW3tDmgZfAVDh6w7r,3DK6m7It6Pw857FcQftMds,3s7MCdXyWmwjdcWh7GWXas,5TxRUOsGeWeRl3xOML59Ai,2R4AlwtrrkMaRKojcTIzmL'"
   ]
  },
  {
   "cell_type": "code",
   "execution_count": 145,
   "id": "d11c85a5",
   "metadata": {},
   "outputs": [],
   "source": [
    "phone_tracks_url_response = requests.get(url = phone_tracks_url,headers = session_headers)"
   ]
  },
  {
   "cell_type": "code",
   "execution_count": 146,
   "id": "2ba24798",
   "metadata": {},
   "outputs": [],
   "source": [
    "phone_track_data = phone_tracks_url_response.json()"
   ]
  },
  {
   "cell_type": "code",
   "execution_count": 148,
   "id": "ddf45601",
   "metadata": {},
   "outputs": [],
   "source": [
    "phone_track_df = pd.DataFrame(phone_track_data)"
   ]
  },
  {
   "cell_type": "code",
   "execution_count": 150,
   "id": "7fcbfe70",
   "metadata": {},
   "outputs": [],
   "source": [
    "phone_genre = 'https://api.spotify.com/v1/recommendations/available-genre-seeds'"
   ]
  },
  {
   "cell_type": "code",
   "execution_count": 151,
   "id": "9d39d567",
   "metadata": {},
   "outputs": [],
   "source": [
    "phone_genre_response = requests.get(url = phone_genre,headers = session_headers)"
   ]
  },
  {
   "cell_type": "code",
   "execution_count": 152,
   "id": "57b961f2",
   "metadata": {},
   "outputs": [],
   "source": [
    "phone_genre_data = phone_genre_response.json()"
   ]
  },
  {
   "cell_type": "code",
   "execution_count": 154,
   "id": "f0965bf0",
   "metadata": {},
   "outputs": [],
   "source": [
    "phone_df = pd.DataFrame(phone_genre_data)"
   ]
  },
  {
   "cell_type": "markdown",
   "id": "fd5b40c5",
   "metadata": {},
   "source": [
    "<h3> Computer Data </h3>"
   ]
  },
  {
   "cell_type": "code",
   "execution_count": 156,
   "id": "a19d71ce",
   "metadata": {},
   "outputs": [],
   "source": [
    "computer_id = '0uW59BYUIN4r91UlWH9qmg'"
   ]
  },
  {
   "cell_type": "code",
   "execution_count": 157,
   "id": "8114d742",
   "metadata": {},
   "outputs": [],
   "source": [
    "computer_url = 'https://api.spotify.com/v1/playlists/{}'.format(computer_id)"
   ]
  },
  {
   "cell_type": "code",
   "execution_count": 158,
   "id": "b78caed0",
   "metadata": {},
   "outputs": [],
   "source": [
    "computer_tracks_url = 'https://api.spotify.com/v1/tracks?ids=2ncLdwTd8qzkxiJjlbiOgC,37y7iDayfwm3WXn5BiAoRk,7vgTNTaEz3CsBZ1N4YQalM,68Dni7IE4VyPkTOH9mRWHr,1UGD3lW3tDmgZfAVDh6w7r'"
   ]
  },
  {
   "cell_type": "code",
   "execution_count": 159,
   "id": "4016fbf9",
   "metadata": {},
   "outputs": [],
   "source": [
    "computer_tracks_url_response = requests.get(url = computer_tracks_url,headers = session_headers)"
   ]
  },
  {
   "cell_type": "code",
   "execution_count": 160,
   "id": "6c074670",
   "metadata": {},
   "outputs": [],
   "source": [
    "computer_track_data = computer_tracks_url_response.json()"
   ]
  },
  {
   "cell_type": "code",
   "execution_count": 162,
   "id": "072eed09",
   "metadata": {},
   "outputs": [],
   "source": [
    "computer_track_df = pd.DataFrame(computer_track_data)"
   ]
  },
  {
   "cell_type": "code",
   "execution_count": 164,
   "id": "5f151b07",
   "metadata": {},
   "outputs": [],
   "source": [
    "computer_response = requests.get(url = computer_url,headers = session_headers)"
   ]
  },
  {
   "cell_type": "code",
   "execution_count": 165,
   "id": "2f29b6f7",
   "metadata": {},
   "outputs": [],
   "source": [
    "computer_data = computer_response.json()"
   ]
  },
  {
   "cell_type": "code",
   "execution_count": 166,
   "id": "48d9e7db",
   "metadata": {},
   "outputs": [],
   "source": [
    "computer_genre = 'https://api.spotify.com/v1/recommendations/available-genre-seeds'"
   ]
  },
  {
   "cell_type": "code",
   "execution_count": 167,
   "id": "67e30cf4",
   "metadata": {},
   "outputs": [],
   "source": [
    "computer_genre_response = requests.get(url = computer_genre,headers = session_headers)"
   ]
  },
  {
   "cell_type": "code",
   "execution_count": 168,
   "id": "58f3a9d7",
   "metadata": {},
   "outputs": [],
   "source": [
    "computer_genre_data = computer_genre_response.json()"
   ]
  },
  {
   "cell_type": "code",
   "execution_count": 170,
   "id": "631a58d4",
   "metadata": {},
   "outputs": [],
   "source": [
    "computer_df = pd.DataFrame(computer_genre_data)"
   ]
  },
  {
   "cell_type": "markdown",
   "id": "393c4a31",
   "metadata": {},
   "source": [
    "This data may be reliable because all l the code exists already through Spotify programmers and is utilized every year for Spotify Wrapped, so I know that it is accurate. \n",
    "\n",
    "This data may be unreliable because as I have always believed, technology always has room for error. There is always limitations to what is possible, hence why I had to go through my hypothesis is a very differnt way than I orginially planned, as my original hypothesis was to test the actual device type itself. However, this was not possible to do, so I had to alter my way of testing this hypothesis. This may also be unreliable because I am rely solely on the idea that the \"computer playlist\" is only being played on a computer and the \"phone\" playlist is only being played on a phone. There is no way for me to know if these statements are true or not. "
   ]
  },
  {
   "cell_type": "markdown",
   "id": "8fd9666d",
   "metadata": {},
   "source": [
    "<h3> Combining The Data </h3>"
   ]
  },
  {
   "cell_type": "code",
   "execution_count": 177,
   "id": "e854a2e7",
   "metadata": {},
   "outputs": [],
   "source": [
    "phone_track_df['device'] = ['phone']*len(phone_track_df.index)"
   ]
  },
  {
   "cell_type": "code",
   "execution_count": 179,
   "id": "fbdc9851",
   "metadata": {},
   "outputs": [],
   "source": [
    "computer_track_df['device'] = ['computer']*len(computer_track_df.index)"
   ]
  },
  {
   "cell_type": "code",
   "execution_count": 180,
   "id": "18d27645",
   "metadata": {
    "scrolled": true
   },
   "outputs": [
    {
     "data": {
      "text/html": [
       "<div>\n",
       "<style scoped>\n",
       "    .dataframe tbody tr th:only-of-type {\n",
       "        vertical-align: middle;\n",
       "    }\n",
       "\n",
       "    .dataframe tbody tr th {\n",
       "        vertical-align: top;\n",
       "    }\n",
       "\n",
       "    .dataframe thead th {\n",
       "        text-align: right;\n",
       "    }\n",
       "</style>\n",
       "<table border=\"1\" class=\"dataframe\">\n",
       "  <thead>\n",
       "    <tr style=\"text-align: right;\">\n",
       "      <th></th>\n",
       "      <th>tracks</th>\n",
       "      <th>device</th>\n",
       "    </tr>\n",
       "  </thead>\n",
       "  <tbody>\n",
       "    <tr>\n",
       "      <th>0</th>\n",
       "      <td>{'album': {'album_type': 'album', 'artists': [...</td>\n",
       "      <td>phone</td>\n",
       "    </tr>\n",
       "    <tr>\n",
       "      <th>1</th>\n",
       "      <td>{'album': {'album_type': 'album', 'artists': [...</td>\n",
       "      <td>phone</td>\n",
       "    </tr>\n",
       "    <tr>\n",
       "      <th>2</th>\n",
       "      <td>{'album': {'album_type': 'album', 'artists': [...</td>\n",
       "      <td>phone</td>\n",
       "    </tr>\n",
       "    <tr>\n",
       "      <th>3</th>\n",
       "      <td>{'album': {'album_type': 'album', 'artists': [...</td>\n",
       "      <td>phone</td>\n",
       "    </tr>\n",
       "    <tr>\n",
       "      <th>4</th>\n",
       "      <td>{'album': {'album_type': 'album', 'artists': [...</td>\n",
       "      <td>phone</td>\n",
       "    </tr>\n",
       "    <tr>\n",
       "      <th>0</th>\n",
       "      <td>{'album': {'album_type': 'album', 'artists': [...</td>\n",
       "      <td>computer</td>\n",
       "    </tr>\n",
       "    <tr>\n",
       "      <th>1</th>\n",
       "      <td>{'album': {'album_type': 'single', 'artists': ...</td>\n",
       "      <td>computer</td>\n",
       "    </tr>\n",
       "    <tr>\n",
       "      <th>2</th>\n",
       "      <td>{'album': {'album_type': 'album', 'artists': [...</td>\n",
       "      <td>computer</td>\n",
       "    </tr>\n",
       "    <tr>\n",
       "      <th>3</th>\n",
       "      <td>{'album': {'album_type': 'album', 'artists': [...</td>\n",
       "      <td>computer</td>\n",
       "    </tr>\n",
       "    <tr>\n",
       "      <th>4</th>\n",
       "      <td>{'album': {'album_type': 'album', 'artists': [...</td>\n",
       "      <td>computer</td>\n",
       "    </tr>\n",
       "  </tbody>\n",
       "</table>\n",
       "</div>"
      ],
      "text/plain": [
       "                                              tracks    device\n",
       "0  {'album': {'album_type': 'album', 'artists': [...     phone\n",
       "1  {'album': {'album_type': 'album', 'artists': [...     phone\n",
       "2  {'album': {'album_type': 'album', 'artists': [...     phone\n",
       "3  {'album': {'album_type': 'album', 'artists': [...     phone\n",
       "4  {'album': {'album_type': 'album', 'artists': [...     phone\n",
       "0  {'album': {'album_type': 'album', 'artists': [...  computer\n",
       "1  {'album': {'album_type': 'single', 'artists': ...  computer\n",
       "2  {'album': {'album_type': 'album', 'artists': [...  computer\n",
       "3  {'album': {'album_type': 'album', 'artists': [...  computer\n",
       "4  {'album': {'album_type': 'album', 'artists': [...  computer"
      ]
     },
     "execution_count": 180,
     "metadata": {},
     "output_type": "execute_result"
    }
   ],
   "source": [
    "pd.concat([phone_track_df, computer_track_df])"
   ]
  },
  {
   "cell_type": "code",
   "execution_count": 181,
   "id": "9ad089ff",
   "metadata": {},
   "outputs": [],
   "source": [
    "phone_df['device'] = ['phone']*len(phone_df.index)"
   ]
  },
  {
   "cell_type": "code",
   "execution_count": 183,
   "id": "b9305527",
   "metadata": {},
   "outputs": [],
   "source": [
    "computer_df['device'] = ['computer']*len(computer_df.index)"
   ]
  },
  {
   "cell_type": "code",
   "execution_count": 184,
   "id": "e055f957",
   "metadata": {
    "scrolled": false
   },
   "outputs": [
    {
     "data": {
      "text/html": [
       "<div>\n",
       "<style scoped>\n",
       "    .dataframe tbody tr th:only-of-type {\n",
       "        vertical-align: middle;\n",
       "    }\n",
       "\n",
       "    .dataframe tbody tr th {\n",
       "        vertical-align: top;\n",
       "    }\n",
       "\n",
       "    .dataframe thead th {\n",
       "        text-align: right;\n",
       "    }\n",
       "</style>\n",
       "<table border=\"1\" class=\"dataframe\">\n",
       "  <thead>\n",
       "    <tr style=\"text-align: right;\">\n",
       "      <th></th>\n",
       "      <th>genres</th>\n",
       "      <th>device</th>\n",
       "    </tr>\n",
       "  </thead>\n",
       "  <tbody>\n",
       "    <tr>\n",
       "      <th>0</th>\n",
       "      <td>acoustic</td>\n",
       "      <td>phone</td>\n",
       "    </tr>\n",
       "    <tr>\n",
       "      <th>1</th>\n",
       "      <td>afrobeat</td>\n",
       "      <td>phone</td>\n",
       "    </tr>\n",
       "    <tr>\n",
       "      <th>2</th>\n",
       "      <td>alt-rock</td>\n",
       "      <td>phone</td>\n",
       "    </tr>\n",
       "    <tr>\n",
       "      <th>3</th>\n",
       "      <td>alternative</td>\n",
       "      <td>phone</td>\n",
       "    </tr>\n",
       "    <tr>\n",
       "      <th>4</th>\n",
       "      <td>ambient</td>\n",
       "      <td>phone</td>\n",
       "    </tr>\n",
       "    <tr>\n",
       "      <th>...</th>\n",
       "      <td>...</td>\n",
       "      <td>...</td>\n",
       "    </tr>\n",
       "    <tr>\n",
       "      <th>121</th>\n",
       "      <td>trance</td>\n",
       "      <td>computer</td>\n",
       "    </tr>\n",
       "    <tr>\n",
       "      <th>122</th>\n",
       "      <td>trip-hop</td>\n",
       "      <td>computer</td>\n",
       "    </tr>\n",
       "    <tr>\n",
       "      <th>123</th>\n",
       "      <td>turkish</td>\n",
       "      <td>computer</td>\n",
       "    </tr>\n",
       "    <tr>\n",
       "      <th>124</th>\n",
       "      <td>work-out</td>\n",
       "      <td>computer</td>\n",
       "    </tr>\n",
       "    <tr>\n",
       "      <th>125</th>\n",
       "      <td>world-music</td>\n",
       "      <td>computer</td>\n",
       "    </tr>\n",
       "  </tbody>\n",
       "</table>\n",
       "<p>252 rows × 2 columns</p>\n",
       "</div>"
      ],
      "text/plain": [
       "          genres    device\n",
       "0       acoustic     phone\n",
       "1       afrobeat     phone\n",
       "2       alt-rock     phone\n",
       "3    alternative     phone\n",
       "4        ambient     phone\n",
       "..           ...       ...\n",
       "121       trance  computer\n",
       "122     trip-hop  computer\n",
       "123      turkish  computer\n",
       "124     work-out  computer\n",
       "125  world-music  computer\n",
       "\n",
       "[252 rows x 2 columns]"
      ]
     },
     "execution_count": 184,
     "metadata": {},
     "output_type": "execute_result"
    }
   ],
   "source": [
    "pd.concat([phone_df, computer_df])"
   ]
  },
  {
   "cell_type": "markdown",
   "id": "33bc60de",
   "metadata": {},
   "source": [
    "<h3> Conclusion </h3>"
   ]
  },
  {
   "cell_type": "markdown",
   "id": "6a7310dc",
   "metadata": {},
   "source": [
    "By looking at the data, I can most likely conclude that my hypothesis was most likely wrong as it seems that a lot of the songs in the phone playlist and computer playlist are quite similar, one being the exact same song. As I explain below, I'm not quite sure how accurate this conclusion is."
   ]
  },
  {
   "cell_type": "markdown",
   "id": "ad7d8134",
   "metadata": {},
   "source": [
    "I think that the only limitations is the limitations of not having the ability to compare every track within the playlist, as I cannot individually copy and paste all five-hundred plus tracks in each playlist. As a result of this, I don't think the comparison is as accurate since there is a lack of items to compare. "
   ]
  }
 ],
 "metadata": {
  "kernelspec": {
   "display_name": "Python 3 (ipykernel)",
   "language": "python",
   "name": "python3"
  },
  "language_info": {
   "codemirror_mode": {
    "name": "ipython",
    "version": 3
   },
   "file_extension": ".py",
   "mimetype": "text/x-python",
   "name": "python",
   "nbconvert_exporter": "python",
   "pygments_lexer": "ipython3",
   "version": "3.11.4"
  }
 },
 "nbformat": 4,
 "nbformat_minor": 5
}
