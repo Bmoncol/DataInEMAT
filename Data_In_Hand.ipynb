{
 "cells": [
  {
   "cell_type": "markdown",
   "id": "5f98c8f5",
   "metadata": {},
   "source": [
    "<h1> Data In Hand </h1>"
   ]
  },
  {
   "cell_type": "markdown",
   "id": "0ca726a4",
   "metadata": {},
   "source": [
    "<h3> Brooke Moncol </h3> \n",
    "<h3> 11/27/23 </h3>"
   ]
  },
  {
   "cell_type": "markdown",
   "id": "d25a357b",
   "metadata": {},
   "source": [
    "<h3> The data: <a href=\"https://engineering.osu.edu/about/annual-statistical-report/enrollment-and-degrees-glance\"> Ohio State Univeristy Enrollment Rate </a>, <a href=\"https://swe.org/research/2023/employment/\"> Women in Select STEM Occupations </a> , <a href=\"https://statusofwomendata.org/explore-the-data/employment-and-earnings/additional-state-data/stem/\"> The Women and Men in Science, Technology, Engineering, and Mathematics (STEM) Occupations by State, 2013 </a> </h3>"
   ]
  },
  {
   "cell_type": "markdown",
   "id": "8bff2663",
   "metadata": {},
   "source": [
    "I collected the data by first examining how I planned to work around certain barriers. The main barrier was that there is no specific data that tells me the rate of which women are becoming apart of STEM.The way I went about ths was that I decided do a comparision between enrollment rate of women joining the STEM program at Ohio State University in 2021 and the employement rate of women in STEM in Ohio, as well as nationwide for a wider comparision. I was able to find Ohio State's enrollement rates by doing lots of definded searches, as I wanted to narrow down my data to the state of Ohio. I was unfortunately unable to do this for the employement rate of women in Stem in Ohio within the same timeframe. The closest information I was able to have access to was data from 2013. I still believe I can make a strong examination from the data provided."
   ]
  },
  {
   "cell_type": "markdown",
   "id": "76266b4a",
   "metadata": {},
   "source": [
    " \n",
    "\n",
    "<strong> The Ohio State University data </strong> is a collected data from Ohio States website, in which it shows two different data sets, the enrollment and degrees. You can filter out what you would like to view on the right-hand side, so I filtered it by \"legal sex\". I can then see the exact number and percentage of women and men that enrolled in the college of engenering program at Ohio State. \n",
    "\n",
    "<strong> The Women in Select STEM Occupations data </strong> is collected data from the Society of Women Engenieers organization, in which there are numerous amounts of data about women within the STEM occupation. The two I am utilizing is the very first data set called \"Women in Select STEM Occupations from 1980 to 2022\", and the fourth \"Full-time Employed Engineers an Computer Professionals by Gender 2021\". \n",
    "\n",
    "\n",
    "<strong> The Women and Men in Science, Technology, Engineering, and Mathematics (STEM) Occupations by State, 2013 </strong> data is data that is collected for every state and shows the percent of Employed Women in STEM Occupations, percent of Employed Men in STEM Occupations, and women’s Share of All STEM Workers. "
   ]
  },
  {
   "cell_type": "markdown",
   "id": "f47618a9",
   "metadata": {},
   "source": [
    "The data structure of all three are organized and easy to understand. I would consider their structure to be a \"stack\", as they all contain a real-world stack of items of data, women involved in STEM. I chose each of these data sets as I believe they are the clearest and most refind data sets that I could find to make a proper analysis. "
   ]
  }
 ],
 "metadata": {
  "kernelspec": {
   "display_name": "Python 3 (ipykernel)",
   "language": "python",
   "name": "python3"
  },
  "language_info": {
   "codemirror_mode": {
    "name": "ipython",
    "version": 3
   },
   "file_extension": ".py",
   "mimetype": "text/x-python",
   "name": "python",
   "nbconvert_exporter": "python",
   "pygments_lexer": "ipython3",
   "version": "3.11.4"
  }
 },
 "nbformat": 4,
 "nbformat_minor": 5
}
