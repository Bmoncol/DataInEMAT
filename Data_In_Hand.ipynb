{
 "cells": [
  {
   "cell_type": "markdown",
   "id": "5f98c8f5",
   "metadata": {},
   "source": [
    "<h1> Data In Hand </h1>"
   ]
  },
  {
   "cell_type": "markdown",
   "id": "0ca726a4",
   "metadata": {},
   "source": [
    "<h3> Brooke Moncol </h3> \n",
    "<h3> 11/27/23 </h3>"
   ]
  },
  {
   "cell_type": "markdown",
   "id": "d25a357b",
   "metadata": {},
   "source": [
    "<h3> The data:</h3>"
   ]
  },
  {
   "cell_type": "code",
   "execution_count": 2,
   "id": "be9d358e",
   "metadata": {},
   "outputs": [],
   "source": [
    "import pandas as pd"
   ]
  },
  {
   "cell_type": "code",
   "execution_count": 18,
   "id": "25d7d3e8",
   "metadata": {},
   "outputs": [],
   "source": [
    "OSU = pd.read_csv('OSU Enrollment Rate.csv')"
   ]
  },
  {
   "cell_type": "code",
   "execution_count": 21,
   "id": "50b38a6f",
   "metadata": {
    "scrolled": true
   },
   "outputs": [
    {
     "data": {
      "text/html": [
       "<div>\n",
       "<style scoped>\n",
       "    .dataframe tbody tr th:only-of-type {\n",
       "        vertical-align: middle;\n",
       "    }\n",
       "\n",
       "    .dataframe tbody tr th {\n",
       "        vertical-align: top;\n",
       "    }\n",
       "\n",
       "    .dataframe thead th {\n",
       "        text-align: right;\n",
       "    }\n",
       "</style>\n",
       "<table border=\"1\" class=\"dataframe\">\n",
       "  <thead>\n",
       "    <tr style=\"text-align: right;\">\n",
       "      <th></th>\n",
       "      <th>Years</th>\n",
       "      <th>Total Students</th>\n",
       "      <th>Male Students</th>\n",
       "      <th>Male Percentage</th>\n",
       "      <th>Female Students</th>\n",
       "      <th>Female Percentage</th>\n",
       "    </tr>\n",
       "  </thead>\n",
       "  <tbody>\n",
       "    <tr>\n",
       "      <th>0</th>\n",
       "      <td>2014</td>\n",
       "      <td>10,424</td>\n",
       "      <td>8,152</td>\n",
       "      <td>78.20%</td>\n",
       "      <td>2,272</td>\n",
       "      <td>21.80%</td>\n",
       "    </tr>\n",
       "    <tr>\n",
       "      <th>1</th>\n",
       "      <td>2015</td>\n",
       "      <td>10,430</td>\n",
       "      <td>8,079</td>\n",
       "      <td>77.46%</td>\n",
       "      <td>2,351</td>\n",
       "      <td>22.54%</td>\n",
       "    </tr>\n",
       "    <tr>\n",
       "      <th>2</th>\n",
       "      <td>2016</td>\n",
       "      <td>10,817</td>\n",
       "      <td>8,253</td>\n",
       "      <td>76.30%</td>\n",
       "      <td>2,564</td>\n",
       "      <td>23.70%</td>\n",
       "    </tr>\n",
       "    <tr>\n",
       "      <th>3</th>\n",
       "      <td>2017</td>\n",
       "      <td>10,656</td>\n",
       "      <td>8,111</td>\n",
       "      <td>76.12%</td>\n",
       "      <td>2,545</td>\n",
       "      <td>23.88%</td>\n",
       "    </tr>\n",
       "    <tr>\n",
       "      <th>4</th>\n",
       "      <td>2018</td>\n",
       "      <td>10,786</td>\n",
       "      <td>8,130</td>\n",
       "      <td>75.38%</td>\n",
       "      <td>2,656</td>\n",
       "      <td>24.62%</td>\n",
       "    </tr>\n",
       "    <tr>\n",
       "      <th>5</th>\n",
       "      <td>2019</td>\n",
       "      <td>10,619</td>\n",
       "      <td>7,983</td>\n",
       "      <td>75.18%</td>\n",
       "      <td>2,636</td>\n",
       "      <td>24.82%</td>\n",
       "    </tr>\n",
       "    <tr>\n",
       "      <th>6</th>\n",
       "      <td>2020</td>\n",
       "      <td>10,320</td>\n",
       "      <td>7,751</td>\n",
       "      <td>75.11%</td>\n",
       "      <td>2,569</td>\n",
       "      <td>24.89%</td>\n",
       "    </tr>\n",
       "    <tr>\n",
       "      <th>7</th>\n",
       "      <td>2021</td>\n",
       "      <td>10,692</td>\n",
       "      <td>8,031</td>\n",
       "      <td>75.11%</td>\n",
       "      <td>2,661</td>\n",
       "      <td>24.89%</td>\n",
       "    </tr>\n",
       "    <tr>\n",
       "      <th>8</th>\n",
       "      <td>2022</td>\n",
       "      <td>10,761</td>\n",
       "      <td>8,028</td>\n",
       "      <td>74.60%</td>\n",
       "      <td>2,733</td>\n",
       "      <td>25.40%</td>\n",
       "    </tr>\n",
       "    <tr>\n",
       "      <th>9</th>\n",
       "      <td>2023</td>\n",
       "      <td>11,111</td>\n",
       "      <td>8,261</td>\n",
       "      <td>74.35%</td>\n",
       "      <td>2,850</td>\n",
       "      <td>25.65%</td>\n",
       "    </tr>\n",
       "  </tbody>\n",
       "</table>\n",
       "</div>"
      ],
      "text/plain": [
       "   Years Total Students Male Students Male Percentage Female Students  \\\n",
       "0   2014         10,424         8,152          78.20%           2,272   \n",
       "1   2015         10,430         8,079          77.46%           2,351   \n",
       "2   2016         10,817         8,253          76.30%           2,564   \n",
       "3   2017         10,656         8,111          76.12%           2,545   \n",
       "4   2018         10,786         8,130          75.38%           2,656   \n",
       "5   2019         10,619         7,983          75.18%           2,636   \n",
       "6   2020         10,320         7,751          75.11%           2,569   \n",
       "7   2021         10,692         8,031          75.11%           2,661   \n",
       "8   2022         10,761         8,028          74.60%           2,733   \n",
       "9   2023         11,111         8,261          74.35%           2,850   \n",
       "\n",
       "  Female Percentage  \n",
       "0            21.80%  \n",
       "1            22.54%  \n",
       "2            23.70%  \n",
       "3            23.88%  \n",
       "4            24.62%  \n",
       "5            24.82%  \n",
       "6            24.89%  \n",
       "7            24.89%  \n",
       "8            25.40%  \n",
       "9            25.65%  "
      ]
     },
     "execution_count": 21,
     "metadata": {},
     "output_type": "execute_result"
    }
   ],
   "source": [
    "OSU"
   ]
  },
  {
   "cell_type": "code",
   "execution_count": 16,
   "id": "c4dd506c",
   "metadata": {},
   "outputs": [],
   "source": [
    "Jobs = pd.read_csv('Jobs.csv')"
   ]
  },
  {
   "cell_type": "code",
   "execution_count": 20,
   "id": "b16830f6",
   "metadata": {},
   "outputs": [
    {
     "data": {
      "text/html": [
       "<div>\n",
       "<style scoped>\n",
       "    .dataframe tbody tr th:only-of-type {\n",
       "        vertical-align: middle;\n",
       "    }\n",
       "\n",
       "    .dataframe tbody tr th {\n",
       "        vertical-align: top;\n",
       "    }\n",
       "\n",
       "    .dataframe thead th {\n",
       "        text-align: right;\n",
       "    }\n",
       "</style>\n",
       "<table border=\"1\" class=\"dataframe\">\n",
       "  <thead>\n",
       "    <tr style=\"text-align: right;\">\n",
       "      <th></th>\n",
       "      <th>Job Title</th>\n",
       "      <th>Total</th>\n",
       "      <th>Women</th>\n",
       "    </tr>\n",
       "  </thead>\n",
       "  <tbody>\n",
       "    <tr>\n",
       "      <th>0</th>\n",
       "      <td>Total, 16 years and over</td>\n",
       "      <td>158,291</td>\n",
       "      <td>46.8</td>\n",
       "    </tr>\n",
       "    <tr>\n",
       "      <th>1</th>\n",
       "      <td>Medical and health services managers</td>\n",
       "      <td>797</td>\n",
       "      <td>71.6</td>\n",
       "    </tr>\n",
       "    <tr>\n",
       "      <th>2</th>\n",
       "      <td>Natural sciences managers</td>\n",
       "      <td>28</td>\n",
       "      <td>–</td>\n",
       "    </tr>\n",
       "    <tr>\n",
       "      <th>3</th>\n",
       "      <td>Logisticians</td>\n",
       "      <td>169</td>\n",
       "      <td>43.7</td>\n",
       "    </tr>\n",
       "    <tr>\n",
       "      <th>4</th>\n",
       "      <td>Project management specialists</td>\n",
       "      <td>841</td>\n",
       "      <td>42.2</td>\n",
       "    </tr>\n",
       "    <tr>\n",
       "      <th>...</th>\n",
       "      <td>...</td>\n",
       "      <td>...</td>\n",
       "      <td>...</td>\n",
       "    </tr>\n",
       "    <tr>\n",
       "      <th>97</th>\n",
       "      <td>Power plant operators, distributors, and dispa...</td>\n",
       "      <td>23</td>\n",
       "      <td>–</td>\n",
       "    </tr>\n",
       "    <tr>\n",
       "      <th>98</th>\n",
       "      <td>Stationary engineers and boiler operators</td>\n",
       "      <td>85</td>\n",
       "      <td>3.3</td>\n",
       "    </tr>\n",
       "    <tr>\n",
       "      <th>99</th>\n",
       "      <td>Water and wastewater treatment plant and syste...</td>\n",
       "      <td>93</td>\n",
       "      <td>6.7</td>\n",
       "    </tr>\n",
       "    <tr>\n",
       "      <th>100</th>\n",
       "      <td>Miscellaneous plant and system operators</td>\n",
       "      <td>38</td>\n",
       "      <td>–</td>\n",
       "    </tr>\n",
       "    <tr>\n",
       "      <th>101</th>\n",
       "      <td>Chemical processing machine setters, operators...</td>\n",
       "      <td>73</td>\n",
       "      <td>9.7</td>\n",
       "    </tr>\n",
       "  </tbody>\n",
       "</table>\n",
       "<p>102 rows × 3 columns</p>\n",
       "</div>"
      ],
      "text/plain": [
       "                                             Job Title    Total Women\n",
       "0                             Total, 16 years and over  158,291  46.8\n",
       "1                 Medical and health services managers      797  71.6\n",
       "2                            Natural sciences managers       28     –\n",
       "3                                         Logisticians      169  43.7\n",
       "4                       Project management specialists      841  42.2\n",
       "..                                                 ...      ...   ...\n",
       "97   Power plant operators, distributors, and dispa...       23     –\n",
       "98           Stationary engineers and boiler operators       85   3.3\n",
       "99   Water and wastewater treatment plant and syste...       93   6.7\n",
       "100           Miscellaneous plant and system operators       38     –\n",
       "101  Chemical processing machine setters, operators...       73   9.7\n",
       "\n",
       "[102 rows x 3 columns]"
      ]
     },
     "execution_count": 20,
     "metadata": {},
     "output_type": "execute_result"
    }
   ],
   "source": [
    "Jobs"
   ]
  },
  {
   "cell_type": "markdown",
   "id": "8bff2663",
   "metadata": {},
   "source": [
    "I collected the data by first examining how I planned to work around certain barriers. The main barrier was that there is no specific data that tells me the rate of which women are becoming apart of STEM.The way I went about ths was that I decided do a comparision between enrollment rate of women joining the STEM program at Ohio State University in 2021 and the employement rate of women in STEM. I was able to find Ohio State's enrollement rates by doing lots of definded searches, as I wanted to narrow down my data to the state of Ohio originally, but that became to hard to find specifc data for, and I feel as though I was able to get a good amount of data from the U.S. BUREAU OF LABOR STATISTICS. I found these stats through a different website and credited this website as it's source. I found lots of different annual data and looked through each till I was able to find the one that fit my data set best. "
   ]
  },
  {
   "cell_type": "markdown",
   "id": "76266b4a",
   "metadata": {},
   "source": [
    " \n",
    "\n",
    "<strong> The Ohio State University data </strong> is collected data directly from Ohio States website, in which it shows two different data sets, the enrollment and degrees. I wanted to focus on the enrollment side of the data set. You can filter out what you would like to view on the right-hand side, so I filtered it by \"legal sex\". I can then see the exact number and percentage of women and men that enrolled in the college of engenering program at Ohio State. I then took this information and input it into an excel file, then saved it as a csv file. \n",
    "\n"
   ]
  },
  {
   "cell_type": "markdown",
   "id": "68a3dcb2",
   "metadata": {},
   "source": [
    "<strong> The U.S. Labor Statistics </strong> is collected data directly from the U.S. BUREAU OF LABOR STATISTICS website, in which the table shows Employed persons by detailed occupation, sex, race, and Hispanic or Latino ethnicity. I then saved this table as an excel file and deleted the occupations that didn't relate to STEM. The jobs that I felt qualified as STEM were anything involving Technology, Math, Science, and Engineering. I also decided to take out anything other than involving women stats, as that is what I am focusing on for my data. I then saved this as a csv file."
   ]
  },
  {
   "cell_type": "markdown",
   "id": "f47618a9",
   "metadata": {},
   "source": [
    "The data structure of all these two are organized and easy to understand. I would consider their structure to be a \"stack\", as they all contain a real-world stack of items of data, women involved in STEM. I chose each of these data sets as I believe they are the clearest and most refind data sets that I could find to make a proper analysis. "
   ]
  }
 ],
 "metadata": {
  "kernelspec": {
   "display_name": "Python 3 (ipykernel)",
   "language": "python",
   "name": "python3"
  },
  "language_info": {
   "codemirror_mode": {
    "name": "ipython",
    "version": 3
   },
   "file_extension": ".py",
   "mimetype": "text/x-python",
   "name": "python",
   "nbconvert_exporter": "python",
   "pygments_lexer": "ipython3",
   "version": "3.11.4"
  }
 },
 "nbformat": 4,
 "nbformat_minor": 5
}
