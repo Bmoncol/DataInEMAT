{
 "cells": [
  {
   "cell_type": "markdown",
   "id": "6bf48ee1",
   "metadata": {},
   "source": [
    "# Header 1\n",
    "\n",
    "## Header 2 \n",
    "\n",
    "### Header 3 \n",
    "\n",
    "#### Header 4 \n",
    "\n",
    "1. Name 1 \n",
    "2. Name 2\n",
    "3. Name 3 \n",
    "\n",
    "![Analytics, analysis, statistics, searching gray icon stock illustration.] (https://www.istockphoto.com/signature/vector/analytics-analysis-statistics-searching-gray-icon-gm1249867007-364374032)\n",
    "\n",
    "In this class I hope to be able to learn how to program better than I have previously, as I am not a good programmer and be able to add programming as a skill onto my resume. \n",
    "\n"
   ]
  }
 ],
 "metadata": {
  "kernelspec": {
   "display_name": "Python 3 (ipykernel)",
   "language": "python",
   "name": "python3"
  },
  "language_info": {
   "codemirror_mode": {
    "name": "ipython",
    "version": 3
   },
   "file_extension": ".py",
   "mimetype": "text/x-python",
   "name": "python",
   "nbconvert_exporter": "python",
   "pygments_lexer": "ipython3",
   "version": "3.11.4"
  }
 },
 "nbformat": 4,
 "nbformat_minor": 5
}
